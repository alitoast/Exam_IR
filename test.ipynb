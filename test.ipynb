{
 "cells": [
  {
   "cell_type": "markdown",
   "metadata": {},
   "source": [
    "# NOTEBOOK FOR TESTING"
   ]
  },
  {
   "cell_type": "markdown",
   "metadata": {},
   "source": [
    "### IMPORT LIBRARIES"
   ]
  },
  {
   "cell_type": "code",
   "execution_count": 44,
   "metadata": {},
   "outputs": [
    {
     "name": "stderr",
     "output_type": "stream",
     "text": [
      "[nltk_data] Downloading package stopwords to\n",
      "[nltk_data]     C:\\Users\\utente\\AppData\\Roaming\\nltk_data...\n",
      "[nltk_data]   Package stopwords is already up-to-date!\n",
      "[nltk_data] Downloading package wordnet to\n",
      "[nltk_data]     C:\\Users\\utente\\AppData\\Roaming\\nltk_data...\n",
      "[nltk_data]   Package wordnet is already up-to-date!\n",
      "[nltk_data] Downloading package punkt to\n",
      "[nltk_data]     C:\\Users\\utente\\AppData\\Roaming\\nltk_data...\n",
      "[nltk_data]   Package punkt is already up-to-date!\n",
      "[nltk_data] Downloading package punkt_tab to\n",
      "[nltk_data]     C:\\Users\\utente\\AppData\\Roaming\\nltk_data...\n",
      "[nltk_data]   Package punkt_tab is already up-to-date!\n",
      "[nltk_data] Downloading package averaged_perceptron_tagger_eng to\n",
      "[nltk_data]     C:\\Users\\utente\\AppData\\Roaming\\nltk_data...\n",
      "[nltk_data]   Package averaged_perceptron_tagger_eng is already up-to-\n",
      "[nltk_data]       date!\n",
      "[nltk_data] Downloading package omw-1.4 to\n",
      "[nltk_data]     C:\\Users\\utente\\AppData\\Roaming\\nltk_data...\n",
      "[nltk_data]   Package omw-1.4 is already up-to-date!\n"
     ]
    },
    {
     "data": {
      "text/plain": [
       "True"
      ]
     },
     "execution_count": 44,
     "metadata": {},
     "output_type": "execute_result"
    }
   ],
   "source": [
    "import sqlite3  # library to import      \n",
    "import time \n",
    "import re   \n",
    "import nltk # library to import \n",
    "from nltk.corpus import stopwords \n",
    "from nltk.stem import WordNetLemmatizer\n",
    "from nltk import pos_tag, word_tokenize \n",
    "from nltk.corpus.reader.wordnet import NOUN, VERB, ADJ, ADV\n",
    "\n",
    "from collections import Counter \n",
    "from simhash import Simhash\n",
    "\n",
    "nltk.download('stopwords')\n",
    "nltk.download('wordnet') \n",
    "nltk.download('punkt')\n",
    "nltk.download('punkt_tab')\n",
    "nltk.download('averaged_perceptron_tagger_eng')  \n",
    "nltk.download('omw-1.4')\n"
   ]
  },
  {
   "cell_type": "markdown",
   "metadata": {},
   "source": [
    "### PREPROCESS TEXT"
   ]
  },
  {
   "cell_type": "code",
   "execution_count": 37,
   "metadata": {},
   "outputs": [],
   "source": [
    "def preprocess_sbagliato(text):\n",
    "    #   Set of stopwords \n",
    "    stop_words = set(stopwords.words('english')) \n",
    "    #   Lemmatizer \n",
    "    lemmatizer = WordNetLemmatizer()\n",
    "    #   potrebbe essere utile cambiare il set di stopwords a seconda della lingua della pagina\n",
    "    #   devo capire come fare\n",
    "    #   Tokenize the content       \n",
    "    words = re.findall(r'\\w+', text.lower())\n",
    "\n",
    "    #   Remove the stop words from the set of words \n",
    "    words = [w for w in words if w.isalpha() and w not in stop_words]\n",
    "\n",
    "    #   Apply lemmatization (keep lemmatization or apply stemming?)\n",
    "    words = [lemmatizer.lemmatize(word) for word in words]\n",
    "\n",
    "    #   Return the set of words preprocessed \n",
    "    return words "
   ]
  },
  {
   "cell_type": "markdown",
   "metadata": {},
   "source": [
    "Example"
   ]
  },
  {
   "cell_type": "code",
   "execution_count": null,
   "metadata": {},
   "outputs": [
    {
     "name": "stdout",
     "output_type": "stream",
     "text": [
      "['man', 'suspected', 'opening', 'fire', 'two', 'minnesota', 'legislator', 'spouse', '14', 'june', 'killing', 'one', 'legislator', 'husband', 'apprehended', 'late', 'sunday', 'night', 'charged', 'two', 'count', 'murder', 'two', 'attempted', 'murder', 'state', 'governor', 'tim', 'walz', 'said', 'news', 'conference', 'vance', 'boelter', '57', 'suspected', 'fatally', 'shooting', 'democratic', 'state', 'representative', 'melissa', 'hortman', 'husband', 'mark', 'residence', 'early', 'saturday', 'boelter', 'also', 'suspected', 'shooting', 'state', 'senator', 'john', 'hoffman', 'wife', 'yvette', 'home', 'seriously', 'injuring', 'one', 'man', 'unthinkable', 'action', 'altered', 'state', 'minnesota', 'state', 'governor', 'tim', 'walz', 'said', 'news', 'conference', 'boelter', 'arrested', 'rural', 'area', 'sibley', 'county', 'southwest', 'minneapolis', 'according', 'police', 'added', 'armed', 'taken', 'custody', 'criminal', 'complaint', 'unsealed', 'sunday', 'night', 'said', 'boelter', 'face', 'two', 'count', 'second', 'degree', 'murder', 'two', 'count', 'attempted', 'second', 'degree', 'murder', 'death', 'hortmans', 'wounding', 'hoffman', 'wife']\n"
     ]
    }
   ],
   "source": [
    "text = \"The man suspected of opening fire on two Minnesota legislators and their spouses on 14 June, killing one legislator and her husband, was apprehended late on Sunday night and charged with two counts of murder and two of attempted murder, the state’s governor, Tim Walz, said at a news conference. Vance Boelter, 57, is suspected of fatally shooting the Democratic state representative Melissa Hortman and her husband, Mark, at their residence early on Saturday. Boelter is also suspected of shooting the state senator John Hoffman and his wife, Yvette, at their home, seriously injuring them. “One man’s unthinkable actions have altered the state of Minnesota,” the state’s governor, Tim Walz, said at a news conference. Boelter was arrested in a rural area in Sibley County, southwest of Minneapolis, according to police, who added that he was armed when he was taken into custody. A criminal complaint unsealed Sunday night said Boelter faces two counts of second-degree murder and two counts of attempted second-degree murder in the deaths of the Hortmans and the wounding of Hoffman and his wife.\"\n",
    "\n",
    "words = preprocess_sbagliato(text) \n",
    "\n",
    "print(words)\n"
   ]
  },
  {
   "cell_type": "markdown",
   "metadata": {},
   "source": [
    "Come si può vedere, non viene fatto il **lemmatization** bene, poiché non riconosce se una parola è un sostantivo oppure un verbo.\n",
    "\n",
    "Per sistemare questa cosa, introduco il **POS tagging**, che è il processo di assegnare a ciascuna parola di un testo il suo ruolo grammaticale. \n",
    "\n",
    "Sistemo quindi il codice. "
   ]
  },
  {
   "cell_type": "code",
   "execution_count": 45,
   "metadata": {},
   "outputs": [],
   "source": [
    "def get_wordnet_pos(treebank_tag): \n",
    "    if treebank_tag.startswith('J'):\n",
    "        return ADJ\n",
    "    elif treebank_tag.startswith('V'):\n",
    "        return VERB\n",
    "    elif treebank_tag.startswith('N'):\n",
    "        return NOUN\n",
    "    elif treebank_tag.startswith('R'):\n",
    "        return ADV\n",
    "    else:\n",
    "        return NOUN  # default\n",
    "\n",
    "def preprocess(text): \n",
    "    words = word_tokenize(text.lower())\n",
    "    #   Set of stopwords \n",
    "    stop_words = set(stopwords.words('english')) \n",
    "    #   Lemmatizer \n",
    "    lemmatizer = WordNetLemmatizer()\n",
    "\n",
    "    number_words = ['one', 'two', 'three', 'four', 'five', 'six', 'seven', 'eight', 'nine', 'ten']\n",
    "\n",
    "    #   Remove stop words and punctuation \n",
    "    words = [w for w in words if w.isalpha() and w not in stop_words and w not in number_words]\n",
    "\n",
    "    tagged_words = pos_tag(words)\n",
    "\n",
    "    #   Lemmatization is done using the correct grammatical type \n",
    "    lemmatized_words = [lemmatizer.lemmatize(w, get_wordnet_pos(t)) for w, t in tagged_words]\n",
    "\n",
    "    return lemmatized_words\n"
   ]
  },
  {
   "cell_type": "markdown",
   "metadata": {},
   "source": [
    "Riprovo l'esempio di prima"
   ]
  },
  {
   "cell_type": "code",
   "execution_count": 46,
   "metadata": {},
   "outputs": [
    {
     "name": "stdout",
     "output_type": "stream",
     "text": [
      "['man', 'suspect', 'opening', 'fire', 'minnesota', 'legislator', 'spouses', 'june', 'kill', 'legislator', 'husband', 'apprehend', 'late', 'sunday', 'night', 'charge', 'count', 'murder', 'attempt', 'murder', 'state', 'governor', 'tim', 'walz', 'say', 'news', 'conference', 'vance', 'boelter', 'suspect', 'fatally', 'shoot', 'democratic', 'state', 'representative', 'melissa', 'hortman', 'husband', 'mark', 'residence', 'early', 'saturday', 'boelter', 'also', 'suspect', 'shoot', 'state', 'senator', 'john', 'hoffman', 'wife', 'yvette', 'home', 'seriously', 'injure', 'man', 'unthinkable', 'action', 'alter', 'state', 'minnesota', 'state', 'governor', 'tim', 'walz', 'say', 'news', 'conference', 'boelter', 'arrest', 'rural', 'area', 'sibley', 'county', 'southwest', 'minneapolis', 'accord', 'police', 'add', 'arm', 'take', 'custody', 'criminal', 'complaint', 'unseal', 'sunday', 'night', 'say', 'boelter', 'face', 'count', 'murder', 'count', 'attempt', 'murder', 'death', 'hortmans', 'wound', 'hoffman', 'wife']\n"
     ]
    }
   ],
   "source": [
    "text = \"The man suspected of opening fire on two Minnesota legislators and their spouses on 14 June, killing one legislator and her husband, was apprehended late on Sunday night and charged with two counts of murder and two of attempted murder, the state’s governor, Tim Walz, said at a news conference. Vance Boelter, 57, is suspected of fatally shooting the Democratic state representative Melissa Hortman and her husband, Mark, at their residence early on Saturday. Boelter is also suspected of shooting the state senator John Hoffman and his wife, Yvette, at their home, seriously injuring them. “One man’s unthinkable actions have altered the state of Minnesota,” the state’s governor, Tim Walz, said at a news conference. Boelter was arrested in a rural area in Sibley County, southwest of Minneapolis, according to police, who added that he was armed when he was taken into custody. A criminal complaint unsealed Sunday night said Boelter faces two counts of second-degree murder and two counts of attempted second-degree murder in the deaths of the Hortmans and the wounding of Hoffman and his wife.\"\n",
    "\n",
    "words = preprocess(text) \n",
    "\n",
    "print(words)"
   ]
  },
  {
   "cell_type": "code",
   "execution_count": 47,
   "metadata": {},
   "outputs": [
    {
     "name": "stdout",
     "output_type": "stream",
     "text": [
      "Counter({'state': 5, 'murder': 4, 'boelter': 4, 'suspect': 3, 'count': 3, 'say': 3, 'man': 2, 'minnesota': 2, 'legislator': 2, 'husband': 2, 'sunday': 2, 'night': 2, 'attempt': 2, 'governor': 2, 'tim': 2, 'walz': 2, 'news': 2, 'conference': 2, 'shoot': 2, 'hoffman': 2, 'wife': 2, 'opening': 1, 'fire': 1, 'spouses': 1, 'june': 1, 'kill': 1, 'apprehend': 1, 'late': 1, 'charge': 1, 'vance': 1, 'fatally': 1, 'democratic': 1, 'representative': 1, 'melissa': 1, 'hortman': 1, 'mark': 1, 'residence': 1, 'early': 1, 'saturday': 1, 'also': 1, 'senator': 1, 'john': 1, 'yvette': 1, 'home': 1, 'seriously': 1, 'injure': 1, 'unthinkable': 1, 'action': 1, 'alter': 1, 'arrest': 1, 'rural': 1, 'area': 1, 'sibley': 1, 'county': 1, 'southwest': 1, 'minneapolis': 1, 'accord': 1, 'police': 1, 'add': 1, 'arm': 1, 'take': 1, 'custody': 1, 'criminal': 1, 'complaint': 1, 'unseal': 1, 'face': 1, 'death': 1, 'hortmans': 1, 'wound': 1})\n"
     ]
    }
   ],
   "source": [
    "tf = Counter(words)\n",
    "\n",
    "print(tf)"
   ]
  },
  {
   "cell_type": "markdown",
   "metadata": {},
   "source": [
    "### SIMHASH "
   ]
  },
  {
   "cell_type": "code",
   "execution_count": 51,
   "metadata": {},
   "outputs": [],
   "source": [
    "def compute_fingerprint(text):\n",
    "    words = preprocess(text)\n",
    "    return Simhash(words).value"
   ]
  },
  {
   "cell_type": "code",
   "execution_count": 52,
   "metadata": {},
   "outputs": [
    {
     "name": "stdout",
     "output_type": "stream",
     "text": [
      "2420779509525056338\n"
     ]
    }
   ],
   "source": [
    "print(compute_fingerprint(text))"
   ]
  },
  {
   "cell_type": "markdown",
   "metadata": {},
   "source": [
    "Adesso provo a verificare se due contenuti sono \"near duplicates\""
   ]
  }
 ],
 "metadata": {
  "kernelspec": {
   "display_name": "Python 3",
   "language": "python",
   "name": "python3"
  },
  "language_info": {
   "codemirror_mode": {
    "name": "ipython",
    "version": 3
   },
   "file_extension": ".py",
   "mimetype": "text/x-python",
   "name": "python",
   "nbconvert_exporter": "python",
   "pygments_lexer": "ipython3",
   "version": "3.10.7"
  }
 },
 "nbformat": 4,
 "nbformat_minor": 2
}
