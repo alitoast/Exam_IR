{
 "cells": [
  {
   "cell_type": "markdown",
   "metadata": {},
   "source": [
    "# NOTEBOOK FOR TESTING"
   ]
  },
  {
   "cell_type": "markdown",
   "metadata": {},
   "source": [
    "### IMPORT LIBRARIES"
   ]
  },
  {
   "cell_type": "code",
   "execution_count": 1,
   "metadata": {},
   "outputs": [
    {
     "name": "stderr",
     "output_type": "stream",
     "text": [
      "[nltk_data] Downloading package stopwords to\n",
      "[nltk_data]     C:\\Users\\utente\\AppData\\Roaming\\nltk_data...\n",
      "[nltk_data]   Package stopwords is already up-to-date!\n",
      "[nltk_data] Downloading package wordnet to\n",
      "[nltk_data]     C:\\Users\\utente\\AppData\\Roaming\\nltk_data...\n",
      "[nltk_data]   Package wordnet is already up-to-date!\n",
      "[nltk_data] Downloading package punkt to\n",
      "[nltk_data]     C:\\Users\\utente\\AppData\\Roaming\\nltk_data...\n",
      "[nltk_data]   Package punkt is already up-to-date!\n",
      "[nltk_data] Downloading package punkt_tab to\n",
      "[nltk_data]     C:\\Users\\utente\\AppData\\Roaming\\nltk_data...\n",
      "[nltk_data]   Package punkt_tab is already up-to-date!\n",
      "[nltk_data] Downloading package averaged_perceptron_tagger_eng to\n",
      "[nltk_data]     C:\\Users\\utente\\AppData\\Roaming\\nltk_data...\n",
      "[nltk_data]   Package averaged_perceptron_tagger_eng is already up-to-\n",
      "[nltk_data]       date!\n",
      "[nltk_data] Downloading package omw-1.4 to\n",
      "[nltk_data]     C:\\Users\\utente\\AppData\\Roaming\\nltk_data...\n",
      "[nltk_data]   Package omw-1.4 is already up-to-date!\n"
     ]
    },
    {
     "data": {
      "text/plain": [
       "True"
      ]
     },
     "execution_count": 1,
     "metadata": {},
     "output_type": "execute_result"
    }
   ],
   "source": [
    "import sqlite3  # library to import      \n",
    "import time \n",
    "import re   \n",
    "import nltk # library to import \n",
    "from nltk.corpus import stopwords \n",
    "from nltk.stem import WordNetLemmatizer\n",
    "from nltk import pos_tag, word_tokenize \n",
    "from nltk.corpus.reader.wordnet import NOUN, VERB, ADJ, ADV\n",
    "\n",
    "from collections import Counter \n",
    "from simhash import Simhash\n",
    "\n",
    "nltk.download('stopwords')\n",
    "nltk.download('wordnet') \n",
    "nltk.download('punkt')\n",
    "nltk.download('punkt_tab')\n",
    "nltk.download('averaged_perceptron_tagger_eng')  \n",
    "nltk.download('omw-1.4')\n"
   ]
  },
  {
   "cell_type": "markdown",
   "metadata": {},
   "source": [
    "### PREPROCESS TEXT"
   ]
  },
  {
   "cell_type": "code",
   "execution_count": 37,
   "metadata": {},
   "outputs": [],
   "source": [
    "def preprocess_sbagliato(text):\n",
    "    #   Set of stopwords \n",
    "    stop_words = set(stopwords.words('english')) \n",
    "    #   Lemmatizer \n",
    "    lemmatizer = WordNetLemmatizer()\n",
    "    #   potrebbe essere utile cambiare il set di stopwords a seconda della lingua della pagina\n",
    "    #   devo capire come fare\n",
    "    #   Tokenize the content       \n",
    "    words = re.findall(r'\\w+', text.lower())\n",
    "\n",
    "    #   Remove the stop words from the set of words \n",
    "    words = [w for w in words if w.isalpha() and w not in stop_words]\n",
    "\n",
    "    #   Apply lemmatization (keep lemmatization or apply stemming?)\n",
    "    words = [lemmatizer.lemmatize(word) for word in words]\n",
    "\n",
    "    #   Return the set of words preprocessed \n",
    "    return words "
   ]
  },
  {
   "cell_type": "markdown",
   "metadata": {},
   "source": [
    "Example"
   ]
  },
  {
   "cell_type": "code",
   "execution_count": null,
   "metadata": {},
   "outputs": [
    {
     "name": "stdout",
     "output_type": "stream",
     "text": [
      "['man', 'suspected', 'opening', 'fire', 'two', 'minnesota', 'legislator', 'spouse', '14', 'june', 'killing', 'one', 'legislator', 'husband', 'apprehended', 'late', 'sunday', 'night', 'charged', 'two', 'count', 'murder', 'two', 'attempted', 'murder', 'state', 'governor', 'tim', 'walz', 'said', 'news', 'conference', 'vance', 'boelter', '57', 'suspected', 'fatally', 'shooting', 'democratic', 'state', 'representative', 'melissa', 'hortman', 'husband', 'mark', 'residence', 'early', 'saturday', 'boelter', 'also', 'suspected', 'shooting', 'state', 'senator', 'john', 'hoffman', 'wife', 'yvette', 'home', 'seriously', 'injuring', 'one', 'man', 'unthinkable', 'action', 'altered', 'state', 'minnesota', 'state', 'governor', 'tim', 'walz', 'said', 'news', 'conference', 'boelter', 'arrested', 'rural', 'area', 'sibley', 'county', 'southwest', 'minneapolis', 'according', 'police', 'added', 'armed', 'taken', 'custody', 'criminal', 'complaint', 'unsealed', 'sunday', 'night', 'said', 'boelter', 'face', 'two', 'count', 'second', 'degree', 'murder', 'two', 'count', 'attempted', 'second', 'degree', 'murder', 'death', 'hortmans', 'wounding', 'hoffman', 'wife']\n"
     ]
    }
   ],
   "source": [
    "text = \"The man suspected of opening fire on two Minnesota legislators and their spouses on 14 June, killing one legislator and her husband, was apprehended late on Sunday night and charged with two counts of murder and two of attempted murder, the state’s governor, Tim Walz, said at a news conference. Vance Boelter, 57, is suspected of fatally shooting the Democratic state representative Melissa Hortman and her husband, Mark, at their residence early on Saturday. Boelter is also suspected of shooting the state senator John Hoffman and his wife, Yvette, at their home, seriously injuring them. “One man’s unthinkable actions have altered the state of Minnesota,” the state’s governor, Tim Walz, said at a news conference. Boelter was arrested in a rural area in Sibley County, southwest of Minneapolis, according to police, who added that he was armed when he was taken into custody. A criminal complaint unsealed Sunday night said Boelter faces two counts of second-degree murder and two counts of attempted second-degree murder in the deaths of the Hortmans and the wounding of Hoffman and his wife.\"\n",
    "\n",
    "words = preprocess_sbagliato(text) \n",
    "\n",
    "print(words)\n"
   ]
  },
  {
   "cell_type": "markdown",
   "metadata": {},
   "source": [
    "Come si può vedere, non viene fatto il **lemmatization** bene, poiché non riconosce se una parola è un sostantivo oppure un verbo.\n",
    "\n",
    "Per sistemare questa cosa, introduco il **POS tagging**, che è il processo di assegnare a ciascuna parola di un testo il suo ruolo grammaticale. \n",
    "\n",
    "Sistemo quindi il codice. "
   ]
  },
  {
   "cell_type": "code",
   "execution_count": 2,
   "metadata": {},
   "outputs": [],
   "source": [
    "def get_wordnet_pos(treebank_tag): \n",
    "    if treebank_tag.startswith('J'):\n",
    "        return ADJ\n",
    "    elif treebank_tag.startswith('V'):\n",
    "        return VERB\n",
    "    elif treebank_tag.startswith('N'):\n",
    "        return NOUN\n",
    "    elif treebank_tag.startswith('R'):\n",
    "        return ADV\n",
    "    else:\n",
    "        return NOUN  # default\n",
    "\n",
    "def preprocess(text): \n",
    "    words = word_tokenize(text.lower())\n",
    "    #   Set of stopwords \n",
    "    stop_words = set(stopwords.words('english')) \n",
    "    #   Lemmatizer \n",
    "    lemmatizer = WordNetLemmatizer()\n",
    "\n",
    "    number_words = ['one', 'two', 'three', 'four', 'five', 'six', 'seven', 'eight', 'nine', 'ten']\n",
    "\n",
    "    #   Remove stop words and punctuation \n",
    "    words = [w for w in words if w.isalpha() and w not in stop_words and w not in number_words]\n",
    "\n",
    "    tagged_words = pos_tag(words)\n",
    "\n",
    "    #   Lemmatization is done using the correct grammatical type \n",
    "    lemmatized_words = [lemmatizer.lemmatize(w, get_wordnet_pos(t)) for w, t in tagged_words]\n",
    "\n",
    "    return lemmatized_words\n"
   ]
  },
  {
   "cell_type": "markdown",
   "metadata": {},
   "source": [
    "Riprovo l'esempio di prima"
   ]
  },
  {
   "cell_type": "code",
   "execution_count": 3,
   "metadata": {},
   "outputs": [
    {
     "name": "stdout",
     "output_type": "stream",
     "text": [
      "['man', 'suspect', 'opening', 'fire', 'minnesota', 'legislator', 'spouses', 'june', 'kill', 'legislator', 'husband', 'apprehend', 'late', 'sunday', 'night', 'charge', 'count', 'murder', 'attempt', 'murder', 'state', 'governor', 'tim', 'walz', 'say', 'news', 'conference', 'vance', 'boelter', 'suspect', 'fatally', 'shoot', 'democratic', 'state', 'representative', 'melissa', 'hortman', 'husband', 'mark', 'residence', 'early', 'saturday', 'boelter', 'also', 'suspect', 'shoot', 'state', 'senator', 'john', 'hoffman', 'wife', 'yvette', 'home', 'seriously', 'injure', 'man', 'unthinkable', 'action', 'alter', 'state', 'minnesota', 'state', 'governor', 'tim', 'walz', 'say', 'news', 'conference', 'boelter', 'arrest', 'rural', 'area', 'sibley', 'county', 'southwest', 'minneapolis', 'accord', 'police', 'add', 'arm', 'take', 'custody', 'criminal', 'complaint', 'unseal', 'sunday', 'night', 'say', 'boelter', 'face', 'count', 'murder', 'count', 'attempt', 'murder', 'death', 'hortmans', 'wound', 'hoffman', 'wife']\n"
     ]
    }
   ],
   "source": [
    "text = \"The man suspected of opening fire on two Minnesota legislators and their spouses on 14 June, killing one legislator and her husband, was apprehended late on Sunday night and charged with two counts of murder and two of attempted murder, the state’s governor, Tim Walz, said at a news conference. Vance Boelter, 57, is suspected of fatally shooting the Democratic state representative Melissa Hortman and her husband, Mark, at their residence early on Saturday. Boelter is also suspected of shooting the state senator John Hoffman and his wife, Yvette, at their home, seriously injuring them. “One man’s unthinkable actions have altered the state of Minnesota,” the state’s governor, Tim Walz, said at a news conference. Boelter was arrested in a rural area in Sibley County, southwest of Minneapolis, according to police, who added that he was armed when he was taken into custody. A criminal complaint unsealed Sunday night said Boelter faces two counts of second-degree murder and two counts of attempted second-degree murder in the deaths of the Hortmans and the wounding of Hoffman and his wife.\"\n",
    "\n",
    "words = preprocess(text) \n",
    "\n",
    "print(words)"
   ]
  },
  {
   "cell_type": "code",
   "execution_count": 4,
   "metadata": {},
   "outputs": [
    {
     "name": "stdout",
     "output_type": "stream",
     "text": [
      "Counter({'state': 5, 'murder': 4, 'boelter': 4, 'suspect': 3, 'count': 3, 'say': 3, 'man': 2, 'minnesota': 2, 'legislator': 2, 'husband': 2, 'sunday': 2, 'night': 2, 'attempt': 2, 'governor': 2, 'tim': 2, 'walz': 2, 'news': 2, 'conference': 2, 'shoot': 2, 'hoffman': 2, 'wife': 2, 'opening': 1, 'fire': 1, 'spouses': 1, 'june': 1, 'kill': 1, 'apprehend': 1, 'late': 1, 'charge': 1, 'vance': 1, 'fatally': 1, 'democratic': 1, 'representative': 1, 'melissa': 1, 'hortman': 1, 'mark': 1, 'residence': 1, 'early': 1, 'saturday': 1, 'also': 1, 'senator': 1, 'john': 1, 'yvette': 1, 'home': 1, 'seriously': 1, 'injure': 1, 'unthinkable': 1, 'action': 1, 'alter': 1, 'arrest': 1, 'rural': 1, 'area': 1, 'sibley': 1, 'county': 1, 'southwest': 1, 'minneapolis': 1, 'accord': 1, 'police': 1, 'add': 1, 'arm': 1, 'take': 1, 'custody': 1, 'criminal': 1, 'complaint': 1, 'unseal': 1, 'face': 1, 'death': 1, 'hortmans': 1, 'wound': 1})\n"
     ]
    }
   ],
   "source": [
    "tf = Counter(words)\n",
    "\n",
    "print(tf)"
   ]
  },
  {
   "cell_type": "markdown",
   "metadata": {},
   "source": [
    "### SIMHASH "
   ]
  },
  {
   "cell_type": "code",
   "execution_count": 5,
   "metadata": {},
   "outputs": [],
   "source": [
    "def compute_fingerprint(text):\n",
    "    words = preprocess(text)\n",
    "    return Simhash(words).value"
   ]
  },
  {
   "cell_type": "code",
   "execution_count": 12,
   "metadata": {},
   "outputs": [
    {
     "name": "stdout",
     "output_type": "stream",
     "text": [
      "2420779509525056338\n"
     ]
    }
   ],
   "source": [
    "fp1 = compute_fingerprint(text)\n",
    "print(fp1)"
   ]
  },
  {
   "cell_type": "markdown",
   "metadata": {},
   "source": [
    "Adesso provo a verificare se due contenuti sono \"near duplicates\""
   ]
  },
  {
   "cell_type": "code",
   "execution_count": 11,
   "metadata": {},
   "outputs": [],
   "source": [
    "def hamming_distance(fp1, fp2):\n",
    "\n",
    "    x = (fp1 ^ fp2) & ((1 << 64) - 1)\n",
    "    distance = 0\n",
    "    while x:\n",
    "        distance += 1\n",
    "        x &= x - 1\n",
    "\n",
    "    return distance\n",
    "\n",
    "def is_near_duplicate(fp1, fp2, threshold=5):\n",
    "    \n",
    "    d = hamming_distance(fp1, fp2) \n",
    "    if d <= threshold :\n",
    "            return True     #   The pages are near-duplicates\n",
    "    \n",
    "    return False    \n"
   ]
  },
  {
   "cell_type": "code",
   "execution_count": 10,
   "metadata": {},
   "outputs": [
    {
     "name": "stdout",
     "output_type": "stream",
     "text": [
      "['u', 'president', 'donald', 'trump', 'deny', 'left', 'leader', 'summit', 'canada', 'early', 'work', 'ceasefire', 'israel', 'iran', 'social', 'medium', 'post', 'also', 'deride', 'emmanuel', 'macron', 'publicity', 'seek', 'u', 'president', 'say', 'macron', 'idea', 'return', 'washington', 'reason', 'much', 'big', 'ceasefire', 'earlier', 'macron', 'suggest', 'trump', 'make', 'ceasefire', 'offer', 'leader', 'affirm', 'israel', 'right', 'defend', 'leader', 'say', 'reiterate', 'support', 'security', 'israel', 'statement', 'call', 'iran', 'principal', 'source', 'regional', 'instability', 'terror', 'trump', 'also', 'say', 'wanted', 'real', 'end', 'nuclear', 'problem', 'iran', 'iran', 'give', 'entirely', 'nuclear', 'weapon', 'accord', 'comment', 'post', 'cbs', 'news', 'reporter', 'trump', 'make', 'comment', 'midnight', 'departure', 'canada', 'attend', 'group', 'nation', 'summit', 'monday', 'cbs', 'news', 'reporter', 'say', 'early', 'tuesday', 'heavy', 'traffic', 'could', 'see', 'tehran', 'trump', 'tell', 'iranian', 'immediately', 'evacuate', 'comment', 'president', 'come', 'long', 'israel', 'tell', 'people', 'evacuate', 'large', 'part', 'tehran', 'ahead', 'bomb', 'campaign', 'similar', 'tactic', 'gaza', 'kill', 'ten', 'thousand', 'civilian', 'israeli', 'military', 'claim', 'tuesday', 'assassinate', 'ali', 'shadmani', 'identify', 'iran', 'wartime', 'chief', 'staff', 'reuters', 'report', 'israelis', 'describe', 'shadmani', 'iran', 'senior', 'military', 'commander', 'shadmani', 'appoint', 'role', 'assassination', 'gholamali', 'rashid', 'last', 'week', 'israeli', 'force', 'former', 'head', 'khatam', 'central', 'headquarters', 'least', 'palestinian', 'kill', 'await', 'aid', 'truck', 'khan', 'younis', 'southern', 'gaza', 'strip', 'territory', 'civil', 'defence', 'agency', 'say', 'statement', 'agency', 'add', 'wound', 'result', 'report', 'come', 'palestinian', 'civilian', 'kill', 'several', 'others', 'injure', 'israeli', 'force', 'open', 'fire', 'people', 'wait', 'aid', 'gaza', 'city', 'dr', 'mohammed', 'saqer', 'head', 'nurse', 'nasser', 'hospital', 'khan', 'younis', 'say', 'casualty', 'arrive', 'attacked', 'tank', 'wait', 'food', 'add', 'hospital', 'could', 'longer', 'deal', 'high', 'number', 'case', 'staffer', 'iranian', 'state', 'broadcaster', 'irib', 'die', 'israeli', 'attack', 'building', 'live', 'broadcast', 'iranian', 'medium', 'report', 'masoumeh', 'azimi', 'succumb', 'severe', 'injury', 'cause', 'shockwave', 'attack', 'press', 'tv', 'own', 'irib', 'report', 'several', 'journalist', 'also', 'injure', 'say', 'possible', 'independently', 'confirm', 'report', 'u', 'defence', 'ministry', 'spokespeople', 'deny', 'report', 'online', 'u', 'join', 'attack', 'iran', 'true', 'chief', 'pentagon', 'spokesperson', 'sean', 'parnell', 'write', 'x', 'response', 'post']\n",
      "Counter({'iran': 7, 'say': 7, 'report': 6, 'trump': 5, 'u': 4, 'israel': 4, 'israeli': 4, 'president': 3, 'leader': 3, 'ceasefire': 3, 'post': 3, 'also': 3, 'macron': 3, 'comment': 3, 'iranian': 3, 'gaza': 3, 'kill': 3, 'shadmani': 3, 'attack': 3, 'deny': 2, 'summit': 2, 'canada': 2, 'early': 2, 'medium': 2, 'make': 2, 'statement': 2, 'nuclear': 2, 'cbs': 2, 'news': 2, 'reporter': 2, 'tuesday': 2, 'could': 2, 'tehran': 2, 'tell': 2, 'evacuate': 2, 'come': 2, 'people': 2, 'civilian': 2, 'military': 2, 'chief': 2, 'force': 2, 'head': 2, 'palestinian': 2, 'aid': 2, 'khan': 2, 'younis': 2, 'defence': 2, 'agency': 2, 'add': 2, 'several': 2, 'injure': 2, 'wait': 2, 'hospital': 2, 'irib': 2, 'donald': 1, 'left': 1, 'work': 1, 'social': 1, 'deride': 1, 'emmanuel': 1, 'publicity': 1, 'seek': 1, 'idea': 1, 'return': 1, 'washington': 1, 'reason': 1, 'much': 1, 'big': 1, 'earlier': 1, 'suggest': 1, 'offer': 1, 'affirm': 1, 'right': 1, 'defend': 1, 'reiterate': 1, 'support': 1, 'security': 1, 'call': 1, 'principal': 1, 'source': 1, 'regional': 1, 'instability': 1, 'terror': 1, 'wanted': 1, 'real': 1, 'end': 1, 'problem': 1, 'give': 1, 'entirely': 1, 'weapon': 1, 'accord': 1, 'midnight': 1, 'departure': 1, 'attend': 1, 'group': 1, 'nation': 1, 'monday': 1, 'heavy': 1, 'traffic': 1, 'see': 1, 'immediately': 1, 'long': 1, 'large': 1, 'part': 1, 'ahead': 1, 'bomb': 1, 'campaign': 1, 'similar': 1, 'tactic': 1, 'ten': 1, 'thousand': 1, 'claim': 1, 'assassinate': 1, 'ali': 1, 'identify': 1, 'wartime': 1, 'staff': 1, 'reuters': 1, 'israelis': 1, 'describe': 1, 'senior': 1, 'commander': 1, 'appoint': 1, 'role': 1, 'assassination': 1, 'gholamali': 1, 'rashid': 1, 'last': 1, 'week': 1, 'former': 1, 'khatam': 1, 'central': 1, 'headquarters': 1, 'least': 1, 'await': 1, 'truck': 1, 'southern': 1, 'strip': 1, 'territory': 1, 'civil': 1, 'wound': 1, 'result': 1, 'others': 1, 'open': 1, 'fire': 1, 'city': 1, 'dr': 1, 'mohammed': 1, 'saqer': 1, 'nurse': 1, 'nasser': 1, 'casualty': 1, 'arrive': 1, 'attacked': 1, 'tank': 1, 'food': 1, 'longer': 1, 'deal': 1, 'high': 1, 'number': 1, 'case': 1, 'staffer': 1, 'state': 1, 'broadcaster': 1, 'die': 1, 'building': 1, 'live': 1, 'broadcast': 1, 'masoumeh': 1, 'azimi': 1, 'succumb': 1, 'severe': 1, 'injury': 1, 'cause': 1, 'shockwave': 1, 'press': 1, 'tv': 1, 'own': 1, 'journalist': 1, 'possible': 1, 'independently': 1, 'confirm': 1, 'ministry': 1, 'spokespeople': 1, 'online': 1, 'join': 1, 'true': 1, 'pentagon': 1, 'spokesperson': 1, 'sean': 1, 'parnell': 1, 'write': 1, 'x': 1, 'response': 1})\n"
     ]
    }
   ],
   "source": [
    "text2 = \"US president Donald Trump has denied that he left a G7 leaders summit in Canada early to work on a ceasefire between Israel and Iran in a social media post in which he also derided Emmanuel Macron as “publicity seeking”. The US president said Macron had “no idea” why he was returning to Washington and that the reason was “much bigger” than a ceasefire. Earlier, Macron had suggested that Trump had made a ceasefire “offer”. G7 leaders have affirmed that “Israel has a right to defend itself”. The leaders said that they reiterate their support for the security of Israel, in a statement in which they called Iran “the principal source of regional instability and terror”. Trump also said he wanted a “real end” to the nuclear problem with Iran, with Iran “giving up entirely” on nuclear weapons, according to comments that were posted by a CBS News reporter on X. Trump made the comments during his midnight departure from Canada, where he attended the Group of Seven nations summit on Monday, the CBS News reporter said early on Tuesday.  Heavy traffic could be seen from Tehran after Trump told Iranians to ‘immediately evacuate’. The comments from the president came not long after Israel told people to evacuate a large part of Tehran ahead of a bombing campaign – similar to its tactics in Gaza where it has killed tens of thousands of civilians. The Israeli military claimed on Tuesday to have assassinated Ali Shadmani, who it identified as Iran’s wartime chief of staff, Reuters reports. The Israelis described Shadmani as Iran’s “most senior military commander”. Shadmani was appointed to his role after the assassination of Gholamali Rashid last week by Israeli forces, who was the former head of the Khatam al-Anbiya Central Headquarters. At least 47 Palestinians have been killed as they awaited aid trucks in Khan Younis in the southern Gaza Strip, the territory’s civil defence agency said in a statement. The agency added that over 200 had been wounded as a result. The reports come after five Palestinian civilians were killed and several others injured after Israeli forces opened fire on people waiting for aid in north-west Gaza city. Dr Mohammed Saqer, head of nursing at Nasser hospital in Khan Younis, said 300 casualties had arrived after being attacked by “tanks” while waiting for food. He added that the hospital could “no longer deal with such high numbers of cases”. A staffer at the Iranian state broadcaster IRIB has died after an Israeli attack on the building during a live broadcast, Iranian media has reported. Masoumeh Azimi succumbed to severe injuries caused by the shockwave from the attack, Press TV, which is owned by IRIB, reported. Several other journalists were also injured, it said. It was not possible to independently confirm the report. US defence ministry spokespeople have denied reports online that the US has joined attacks on Iran. “This is not true”, chief Pentagon spokesperson Sean Parnell wrote on X in response to one such post.\" \n",
    "\n",
    "words2 = preprocess(text2)\n",
    "\n",
    "print(words2) \n",
    "\n",
    "tf2 = Counter(words2)\n",
    "\n",
    "print(tf2)"
   ]
  },
  {
   "cell_type": "code",
   "execution_count": 9,
   "metadata": {},
   "outputs": [
    {
     "name": "stdout",
     "output_type": "stream",
     "text": [
      "16729321200353243688\n"
     ]
    }
   ],
   "source": [
    "fp2 = compute_fingerprint(text2)\n",
    "\n",
    "print(fp2)"
   ]
  },
  {
   "cell_type": "code",
   "execution_count": 13,
   "metadata": {},
   "outputs": [
    {
     "name": "stdout",
     "output_type": "stream",
     "text": [
      "They are not near duplicates\n"
     ]
    }
   ],
   "source": [
    "if is_near_duplicate(fp1, fp2): \n",
    "    print(\"They are near duplicates\")\n",
    "else: \n",
    "    print(\"They are not near duplicates\")"
   ]
  }
 ],
 "metadata": {
  "kernelspec": {
   "display_name": "Python 3",
   "language": "python",
   "name": "python3"
  },
  "language_info": {
   "codemirror_mode": {
    "name": "ipython",
    "version": 3
   },
   "file_extension": ".py",
   "mimetype": "text/x-python",
   "name": "python",
   "nbconvert_exporter": "python",
   "pygments_lexer": "ipython3",
   "version": "3.10.7"
  }
 },
 "nbformat": 4,
 "nbformat_minor": 2
}
